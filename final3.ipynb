{
 "cells": [
  {
   "cell_type": "code",
   "execution_count": null,
   "id": "7b09fdaf",
   "metadata": {},
   "outputs": [],
   "source": [
    "import pandas as pd\n",
    "import numpy as np"
   ]
  },
  {
   "cell_type": "code",
   "execution_count": null,
   "id": "df9e5d95",
   "metadata": {},
   "outputs": [],
   "source": [
    "excel_dosyası = \"/home/simge/Downloads/soru3_data.xlsx\" "
   ]
  },
  {
   "cell_type": "code",
   "execution_count": null,
   "id": "b12bd74b",
   "metadata": {},
   "outputs": [],
   "source": [
    "df = pd.read_excel(excel_dosyası)"
   ]
  },
  {
   "cell_type": "code",
   "execution_count": null,
   "id": "45267014",
   "metadata": {
    "lines_to_next_cell": 1
   },
   "outputs": [],
   "source": [
    "image = df.values"
   ]
  },
  {
   "cell_type": "code",
   "execution_count": null,
   "id": "10e771d3",
   "metadata": {},
   "outputs": [],
   "source": [
    "def gaussian(x, sigma):\n",
    "    return 1 / (2 * np.pi * (sigma ** 2)) * np.exp(-(x ** 2) / (2 * sigma ** 2))"
   ]
  },
  {
   "cell_type": "code",
   "execution_count": null,
   "id": "07236589",
   "metadata": {
    "lines_to_next_cell": 1
   },
   "outputs": [],
   "source": [
    "def gaussian_kernel(kernel_size, sigma):\n",
    "    kernel = np.zeros((kernel_size, kernel_size))\n",
    "    center = kernel_size // 2\n",
    "    for i in range(kernel_size):\n",
    "        for j in range(kernel_size):\n",
    "            x, y = i - center, j - center\n",
    "            \n",
    "            kernel[i, j] = gaussian(np.sqrt(x ** 2 + y ** 2), sigma)\n",
    "    return kernel / np.sum(kernel)"
   ]
  },
  {
   "cell_type": "code",
   "execution_count": null,
   "id": "e9a55cca",
   "metadata": {
    "lines_to_next_cell": 1
   },
   "outputs": [],
   "source": [
    "def apply_gaussian_filter(image, kernel_size, sigma):\n",
    "    rows, cols = image.shape\n",
    "    output_image = np.zeros((rows - kernel_size + 1, cols - kernel_size + 1))\n",
    "    kernel = gaussian_kernel(kernel_size, sigma)\n",
    "    for i in range(rows - kernel_size + 1):\n",
    "        for j in range(cols - kernel_size + 1):\n",
    "            output_image[i, j] = int(np.sum(image[i:i+kernel_size, j:j+kernel_size] * kernel))  # Tam sayıya dönüştürme\n",
    "    return output_image"
   ]
  },
  {
   "cell_type": "code",
   "execution_count": null,
   "id": "5bff7531",
   "metadata": {},
   "outputs": [],
   "source": [
    "output_image = apply_gaussian_filter(image, kernel_size=3, sigma=1)"
   ]
  },
  {
   "cell_type": "code",
   "execution_count": null,
   "id": "a0440255",
   "metadata": {},
   "outputs": [],
   "source": [
    "for row in output_image:\n",
    "    print(*row)"
   ]
  }
 ],
 "metadata": {
  "jupytext": {
   "cell_metadata_filter": "-all",
   "main_language": "python",
   "notebook_metadata_filter": "-all"
  }
 },
 "nbformat": 4,
 "nbformat_minor": 5
}
