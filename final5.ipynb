{
 "cells": [
  {
   "cell_type": "code",
   "execution_count": null,
   "id": "259824ae",
   "metadata": {},
   "outputs": [],
   "source": [
    "import numpy as np\n",
    "import matplotlib.pyplot as plt\n",
    "from matplotlib.gridspec import GridSpec"
   ]
  },
  {
   "cell_type": "code",
   "execution_count": null,
   "id": "d51ccc02",
   "metadata": {},
   "outputs": [],
   "source": [
    "# Histogram verilerini tanımlama\n",
    "histogram = {\n",
    "    100: 12,\n",
    "    101: 18,\n",
    "    102: 32,\n",
    "    103: 48,\n",
    "    104: 52,\n",
    "    105: 65,\n",
    "    106: 55,\n",
    "    107: 42,\n",
    "    108: 32,\n",
    "    109: 16,\n",
    "    110: 10,\n",
    "    140: 5,\n",
    "    141: 18,\n",
    "    142: 25,\n",
    "    143: 32,\n",
    "    144: 40,\n",
    "    145: 65,\n",
    "    146: 43,\n",
    "    147: 32,\n",
    "    148: 20,\n",
    "    149: 10,\n",
    "    150: 4\n",
    "}"
   ]
  },
  {
   "cell_type": "code",
   "execution_count": null,
   "id": "6b4e86a2",
   "metadata": {},
   "outputs": [],
   "source": [
    "# Histogram verilerini yoğunluk ve piksel sayıları listelerine ayırma\n",
    "yoğunluk_değerleri = np.array(list(histogram.keys()))\n",
    "piksel_sayıları = np.array(list(histogram.values()))"
   ]
  },
  {
   "cell_type": "code",
   "execution_count": null,
   "id": "2e1e8f96",
   "metadata": {},
   "outputs": [],
   "source": [
    "# Toplam piksel sayısını hesaplama\n",
    "toplam_piksel = np.sum(piksel_sayıları)"
   ]
  },
  {
   "cell_type": "code",
   "execution_count": null,
   "id": "71847fe7",
   "metadata": {
    "lines_to_next_cell": 1
   },
   "outputs": [],
   "source": [
    "# Yoğunluk değerlerinin piksel sayılarını normalize etme\n",
    "normalleştirilmiş_histogram = piksel_sayıları / toplam_piksel"
   ]
  },
  {
   "cell_type": "code",
   "execution_count": null,
   "id": "3b5af726",
   "metadata": {
    "lines_to_next_cell": 1
   },
   "outputs": [],
   "source": [
    "# Otsu eşikleme yöntemi\n",
    "def otsu_eşikleme(yoğunluk_değerleri, normalleştirilmiş_histogram):\n",
    "    maksimum_varyans = 0\n",
    "    en_uygun_eşik_değeri = 0\n",
    "    veri_listesi = []\n",
    "\n",
    "    for eşik in yoğunluk_değerleri:\n",
    "        # Sınıf 1 için ağırlık, ortalama ve varyans hesaplama\n",
    "        ağırlık1 = np.sum(normalleştirilmiş_histogram[yoğunluk_değerleri <= eşik])\n",
    "        ortalama1 = np.sum(yoğunluk_değerleri[yoğunluk_değerleri <= eşik] * normalleştirilmiş_histogram[yoğunluk_değerleri <= eşik]) / ağırlık1 if ağırlık1 > 0 else 0\n",
    "        varyans1 = np.sum(((yoğunluk_değerleri[yoğunluk_değerleri <= eşik] - ortalama1) ** 2) * normalleştirilmiş_histogram[yoğunluk_değerleri <= eşik]) / ağırlık1 if ağırlık1 > 0 else 0\n",
    "        \n",
    "        # Sınıf 2 için ağırlık, ortalama ve varyans hesaplama\n",
    "        ağırlık2 = np.sum(normalleştirilmiş_histogram[yoğunluk_değerleri > eşik])\n",
    "        ortalama2 = np.sum(yoğunluk_değerleri[yoğunluk_değerleri > eşik] * normalleştirilmiş_histogram[yoğunluk_değerleri > eşik]) / ağırlık2 if ağırlık2 > 0 else 0\n",
    "        varyans2 = np.sum(((yoğunluk_değerleri[yoğunluk_değerleri > eşik] - ortalama2) ** 2) * normalleştirilmiş_histogram[yoğunluk_değerleri > eşik]) / ağırlık2 if ağırlık2 > 0 else 0\n",
    "        \n",
    "        # Sınıflar arası varyansı hesaplama\n",
    "        varyans_arası = ağırlık1 * ağırlık2 * (ortalama1 - ortalama2) ** 2\n",
    "\n",
    "        # En yüksek varyansı bulma \n",
    "        if varyans_arası > maksimum_varyans:\n",
    "            maksimum_varyans = varyans_arası\n",
    "            en_uygun_eşik_değeri = eşik\n",
    "\n",
    "        # Veri listesine ekleme\n",
    "        veri_listesi.append((eşik, ağırlık1, ortalama1, varyans1, ağırlık2, ortalama2, varyans2, varyans_arası))\n",
    "\n",
    "    return en_uygun_eşik_değeri, veri_listesi"
   ]
  },
  {
   "cell_type": "code",
   "execution_count": null,
   "id": "3929c255",
   "metadata": {},
   "outputs": [],
   "source": [
    "# Otsu yöntemi ile en uygun eşik değerini hesaplama\n",
    "en_uygun_eşik_değeri, veri_listesi = otsu_eşikleme(yoğunluk_değerleri, normalleştirilmiş_histogram)\n",
    "print(f\"En uygun eşik değeri: {en_uygun_eşik_değeri}\")"
   ]
  },
  {
   "cell_type": "code",
   "execution_count": null,
   "id": "a919b010",
   "metadata": {},
   "outputs": [],
   "source": [
    "# Tabloda gösterim için gerekli verileri toplama\n",
    "eşik_değerleri = [v[0] for v in veri_listesi]\n",
    "ağırlık1_değerleri = [v[1] for v in veri_listesi]\n",
    "ortalama1_değerleri = [v[2] for v in veri_listesi]\n",
    "varyans1_değerleri = [v[3] for v in veri_listesi]\n",
    "ağırlık2_değerleri = [v[4] for v in veri_listesi]\n",
    "ortalama2_değerleri = [v[5] for v in veri_listesi]\n",
    "varyans2_değerleri = [v[6] for v in veri_listesi]\n",
    "varyans_arası_değerleri = [v[7] for v in veri_listesi]"
   ]
  },
  {
   "cell_type": "code",
   "execution_count": null,
   "id": "f3d70c14",
   "metadata": {},
   "outputs": [],
   "source": [
    "# Histogramı ve eşik değerini görselleştirme\n",
    "fig = plt.figure(figsize=(18, 12))\n",
    "gs = GridSpec(3, 1, height_ratios=[3, 1, 2])"
   ]
  },
  {
   "cell_type": "code",
   "execution_count": null,
   "id": "cbf4c272",
   "metadata": {},
   "outputs": [],
   "source": [
    "ax1 = plt.subplot(gs[0])\n",
    "ax1.bar(yoğunluk_değerleri, piksel_sayıları, width=1, edgecolor='black', align='center')\n",
    "ax1.axvline(x=en_uygun_eşik_değeri, color='red', linestyle='--', label=f'Eşik Değeri: {en_uygun_eşik_değeri}')\n",
    "ax1.set_title('Histogram ve Otsu Eşik Değeri')\n",
    "ax1.set_xlabel('Yoğunluk Değerleri')\n",
    "ax1.set_ylabel('Piksel Sayıları')\n",
    "ax1.legend()"
   ]
  },
  {
   "cell_type": "code",
   "execution_count": null,
   "id": "3717c4aa",
   "metadata": {},
   "outputs": [],
   "source": [
    "# Eşik değerlerine göre hesaplamaların gösterimi\n",
    "ax2 = plt.subplot(gs[1])\n",
    "ax2.plot(eşik_değerleri, varyans_arası_değerleri, marker='o')\n",
    "ax2.axvline(x=en_uygun_eşik_değeri, color='red', linestyle='--')\n",
    "ax2.set_title('Eşik Değerlerine Göre Sınıflar Arası Varyans')\n",
    "ax2.set_xlabel('Eşik Değeri')\n",
    "ax2.set_ylabel('Sınıflar Arası Varyans')"
   ]
  },
  {
   "cell_type": "code",
   "execution_count": null,
   "id": "939b2e70",
   "metadata": {},
   "outputs": [],
   "source": [
    "# Tablo için verileri hazırlama\n",
    "cell_text = []\n",
    "rows = ['Weight Background', 'Mean Background', 'Variance Background', 'Weight Foreground', 'Mean Foreground', 'Variance Foreground', 'Between Class Variance']\n",
    "cols = [f'T={t}' for t in eşik_değerleri]"
   ]
  },
  {
   "cell_type": "code",
   "execution_count": null,
   "id": "a844b365",
   "metadata": {},
   "outputs": [],
   "source": [
    "for i in range(len(eşik_değerleri)):\n",
    "    cell_text.append([\n",
    "        f\"{ağırlık1_değerleri[i]:.3f}\",\n",
    "        f\"{ortalama1_değerleri[i]:.3f}\",\n",
    "        f\"{varyans1_değerleri[i]:.3f}\",\n",
    "        f\"{ağırlık2_değerleri[i]:.3f}\",\n",
    "        f\"{ortalama2_değerleri[i]:.3f}\",\n",
    "        f\"{varyans2_değerleri[i]:.3f}\",\n",
    "        f\"{varyans_arası_değerleri[i]:.3f}\"\n",
    "    ])"
   ]
  },
  {
   "cell_type": "code",
   "execution_count": null,
   "id": "0a30e523",
   "metadata": {},
   "outputs": [],
   "source": [
    "# Tabloyu oluşturma\n",
    "ax3 = plt.subplot(gs[2])\n",
    "table = ax3.table(cellText=cell_text, rowLabels=cols, colLabels=rows, cellLoc='center', loc='center')\n",
    "table.auto_set_font_size(False)\n",
    "table.set_fontsize(10)\n",
    "table.scale(1.2, 1.2)\n",
    "ax3.axis('off')"
   ]
  },
  {
   "cell_type": "code",
   "execution_count": null,
   "id": "fa2bbf04",
   "metadata": {},
   "outputs": [],
   "source": [
    "plt.tight_layout()\n",
    "plt.show()"
   ]
  }
 ],
 "metadata": {
  "jupytext": {
   "cell_metadata_filter": "-all",
   "main_language": "python",
   "notebook_metadata_filter": "-all"
  }
 },
 "nbformat": 4,
 "nbformat_minor": 5
}
