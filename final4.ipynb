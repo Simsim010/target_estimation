{
 "cells": [
  {
   "cell_type": "code",
   "execution_count": null,
   "id": "24bc9d49",
   "metadata": {},
   "outputs": [],
   "source": [
    "# Verilen histogram verileri\n",
    "yoğunluk_değerleri = [100, 101, 102, 103, 104, 105, 106, 107, 108, 109, 110, 140, 141, 142, 143, 144, 145, 146, 147, 148, 149, 150]\n",
    "piksel_sayıları = [12, 18, 32, 48, 52, 65, 55, 42, 32, 16, 10, 5, 18, 25, 32, 40, 65, 43, 32, 20, 10, 4]"
   ]
  },
  {
   "cell_type": "code",
   "execution_count": null,
   "id": "9375df27",
   "metadata": {
    "lines_to_next_cell": 1
   },
   "outputs": [],
   "source": [
    "# Başlangıç eşik değeri T0 ve eşikleme sabiti\n",
    "T0 = 100\n",
    "eşikleme_sabiti = 1"
   ]
  },
  {
   "cell_type": "code",
   "execution_count": null,
   "id": "4e3f135e",
   "metadata": {
    "lines_to_next_cell": 1
   },
   "outputs": [],
   "source": [
    "# Global eşikleme fonksiyonu\n",
    "def global_esikleme(yoğunluk_değerleri, piksel_sayıları, T0, eşikleme_sabiti):\n",
    "    while True:\n",
    "        # G1 ve G2 gruplarının toplam yoğunluk ve piksel sayıları\n",
    "        g1_toplam_yoğunluk = 0\n",
    "        g1_toplam_piksel = 0\n",
    "        g2_toplam_yoğunluk = 0\n",
    "        g2_toplam_piksel = 0\n",
    "\n",
    "        # Görüntüyü iki gruba ayırma\n",
    "        for i in range(len(yoğunluk_değerleri)):\n",
    "            if yoğunluk_değerleri[i] > T0:\n",
    "                g1_toplam_yoğunluk += yoğunluk_değerleri[i] * piksel_sayıları[i]\n",
    "                g1_toplam_piksel += piksel_sayıları[i]\n",
    "            else:\n",
    "                g2_toplam_yoğunluk += yoğunluk_değerleri[i] * piksel_sayıları[i]\n",
    "                g2_toplam_piksel += piksel_sayıları[i]\n",
    "\n",
    "        # Ortalama yoğunluk değerlerini hesaplama\n",
    "        m1 = g1_toplam_yoğunluk / g1_toplam_piksel if g1_toplam_piksel != 0 else 0\n",
    "        m2 = g2_toplam_yoğunluk / g2_toplam_piksel if g2_toplam_piksel != 0 else 0\n",
    "\n",
    "        # Yeni eşik değeri T1'i hesaplama\n",
    "        T1 = (m1 + m2) / 2\n",
    "\n",
    "        # Eşik değeri değişiminin eşikleme sabitinden küçük olup olmadığını kontrol etme\n",
    "        if abs(T1 - T0) < eşikleme_sabiti:\n",
    "            return T1\n",
    "        else:\n",
    "            T0 = T1"
   ]
  },
  {
   "cell_type": "code",
   "execution_count": null,
   "id": "caff278f",
   "metadata": {},
   "outputs": [],
   "source": [
    "# Optimum eşik değerini hesaplama\n",
    "optimum_esik_değeri = global_esikleme(yoğunluk_değerleri, piksel_sayıları, T0, eşikleme_sabiti)\n",
    "print(f\"Optimum eşik değeri: {optimum_esik_değeri}\")"
   ]
  }
 ],
 "metadata": {
  "jupytext": {
   "cell_metadata_filter": "-all",
   "main_language": "python",
   "notebook_metadata_filter": "-all"
  }
 },
 "nbformat": 4,
 "nbformat_minor": 5
}
