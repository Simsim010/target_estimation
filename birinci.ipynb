{
 "cells": [
  {
   "cell_type": "code",
   "execution_count": null,
   "id": "2ff65b9e",
   "metadata": {
    "lines_to_next_cell": 1
   },
   "outputs": [],
   "source": [
    "import random\n",
    "import math\n",
    "import matplotlib.pyplot as plt"
   ]
  },
  {
   "cell_type": "code",
   "execution_count": null,
   "id": "bbe8b8a8",
   "metadata": {
    "lines_to_next_cell": 1
   },
   "outputs": [],
   "source": [
    "#verilen ilk hız, hedefin ortasına olan uzak hedefe ulaşmak için gerekli \n",
    "def calculate_required_velocity(v_initial, distance, height, angle):\n",
    "    g = 9.81  \n",
    "    \n",
    "    theta = math.radians(angle)\n",
    "    \n",
    "    v_initial_y = (v_initial * math.sin(theta))  \n",
    "    time_to_max_height =  v_initial_y / g\n",
    "    max_height = height + ( ( v_initial_y**2 ) / (2 * g) )\n",
    "    fall_time = math.sqrt(2 * max_height / g)\n",
    "    total_time_of_flight = time_to_max_height + fall_time\n",
    "    required_velocity = distance / (math.cos(theta) * total_time_of_flight)\n",
    "    \n",
    "    return required_velocity, total_time_of_flight"
   ]
  },
  {
   "cell_type": "code",
   "execution_count": null,
   "id": "3daf3568",
   "metadata": {},
   "outputs": [],
   "source": [
    "#normalde okul numaram 3 ve grafikte yükseklik farkı çok oladığı için yükseklik olarak 1200mt kullandım\n",
    "height = 1200  \n",
    "rand_dist = random.randint(-10,10) * 200\n",
    "distance_to_target = 20000 + rand_dist \n",
    "rand_len = random.randint(-2,2) * 100\n",
    "target_length = 1000 + rand_len\n",
    "angle = 30  \n",
    "min_velocity = 330  \n",
    "max_velocity = 1800  \n",
    "v_initial = (min_velocity + max_velocity) / 2\n",
    "iterations = 0"
   ]
  },
  {
   "cell_type": "code",
   "execution_count": null,
   "id": "bdfb2494",
   "metadata": {},
   "outputs": [],
   "source": [
    "while True:\n",
    "    iterations += 1\n",
    "    \n",
    "    required_velocity, time_of_flight = calculate_required_velocity(v_initial, distance_to_target, height, angle)\n",
    "    \n",
    "    if int(required_velocity) > int(v_initial):\n",
    "        print(\"Hedefin önüne düştü\")\n",
    "        min_velocity = v_initial\n",
    "    elif int(required_velocity) < int(v_initial):\n",
    "        print(\"Hedefine arkasına düştü\")\n",
    "        max_velocity = v_initial\n",
    "\n",
    "    tolerance = 0.5\n",
    "\n",
    "    if abs(required_velocity - v_initial) < tolerance:\n",
    "        print(\"Hedef Vuruldu!\")\n",
    "        print(\"Toplam Atış Sayısı: \", iterations)\n",
    "        print(\"Hedefi vurmak için gerekli hız: \", required_velocity, \"m/s\")\n",
    "        break\n",
    "        \n",
    "    v_initial = (min_velocity + max_velocity) / 2"
   ]
  },
  {
   "cell_type": "markdown",
   "id": "418e089b",
   "metadata": {},
   "source": [
    "Hedefi vuran atışın grafiği çizdiriliyor"
   ]
  },
  {
   "cell_type": "code",
   "execution_count": null,
   "id": "3c7dfcf7",
   "metadata": {},
   "outputs": [],
   "source": [
    "x_values = []\n",
    "y_values = []"
   ]
  },
  {
   "cell_type": "code",
   "execution_count": null,
   "id": "7c000b44",
   "metadata": {},
   "outputs": [],
   "source": [
    "time_intervals = int(math.ceil(time_of_flight)) \n",
    "for t in range(time_intervals + 1):\n",
    "    x_position = required_velocity * math.cos(math.radians(angle)) * t\n",
    "    y_position = height + (required_velocity * math.sin(math.radians(angle)) * t) - (0.5 * 9.81 * (t ** 2))\n",
    "    \n",
    "    x_values.append(x_position)\n",
    "    y_values.append(y_position)"
   ]
  },
  {
   "cell_type": "code",
   "execution_count": null,
   "id": "10ca3491",
   "metadata": {},
   "outputs": [],
   "source": [
    "plt.plot(x_values, y_values, linestyle='-', color='b')\n",
    "plt.xlabel('Uzaklık (m)')\n",
    "plt.ylabel('Yükseklik (m)')\n",
    "plt.title('Top Atışı Grafiği')\n",
    "plt.grid(True)"
   ]
  },
  {
   "cell_type": "code",
   "execution_count": null,
   "id": "8639b5ea",
   "metadata": {},
   "outputs": [],
   "source": [
    "plt.plot(0, height, marker='s', color='r', label='Top')  \n",
    "plt.plot(distance_to_target, 0, marker='^', color='g', label='Hedef')  \n",
    "plt.legend()"
   ]
  },
  {
   "cell_type": "code",
   "execution_count": null,
   "id": "62d5700c",
   "metadata": {},
   "outputs": [],
   "source": [
    "plt.show()"
   ]
  }
 ],
 "metadata": {
  "jupytext": {
   "cell_metadata_filter": "-all",
   "main_language": "python",
   "notebook_metadata_filter": "-all"
  }
 },
 "nbformat": 4,
 "nbformat_minor": 5
}
