{
 "cells": [
  {
   "cell_type": "code",
   "execution_count": null,
   "id": "80ace0fb",
   "metadata": {},
   "outputs": [],
   "source": [
    "import numpy as np\n",
    "import pandas as pd"
   ]
  },
  {
   "cell_type": "code",
   "execution_count": null,
   "id": "138e4485",
   "metadata": {},
   "outputs": [],
   "source": [
    "# Excel dosyasının tam yolunu belirle\n",
    "excel_dosyası = \"/home/simge/Downloads/soru1_2_data.xlsx\"  # Linux'ta örnek bir yol"
   ]
  },
  {
   "cell_type": "code",
   "execution_count": null,
   "id": "061e4027",
   "metadata": {},
   "outputs": [],
   "source": [
    "# Excel dosyasını oku\n",
    "df = pd.read_excel(excel_dosyası)"
   ]
  },
  {
   "cell_type": "code",
   "execution_count": null,
   "id": "59a0d654",
   "metadata": {},
   "outputs": [],
   "source": [
    "# Veriyi NumPy dizisine dönüştür\n",
    "veri = df.values"
   ]
  },
  {
   "cell_type": "code",
   "execution_count": null,
   "id": "b2cda67d",
   "metadata": {},
   "outputs": [],
   "source": [
    "# Calculate the histogram\n",
    "histogram = np.zeros(256, dtype=int)\n",
    "for row in veri:\n",
    "    for pixel in row:\n",
    "        histogram[pixel] += 1"
   ]
  },
  {
   "cell_type": "code",
   "execution_count": null,
   "id": "8adf264d",
   "metadata": {},
   "outputs": [],
   "source": [
    "# Calculate the cumulative distribution function (CDF)\n",
    "cdf = np.zeros(256, dtype=float)\n",
    "for i in range(256):\n",
    "    cdf[i] = np.sum(histogram[:i+1]) / np.sum(histogram)"
   ]
  },
  {
   "cell_type": "code",
   "execution_count": null,
   "id": "97e31a84",
   "metadata": {},
   "outputs": [],
   "source": [
    "# Transform the CDF to a uniform distribution\n",
    "uniform_cdf = np.linspace(0, 1, 256)"
   ]
  },
  {
   "cell_type": "code",
   "execution_count": null,
   "id": "b7ff61a3",
   "metadata": {},
   "outputs": [],
   "source": [
    "# Map the transformed CDF to the original histogram values\n",
    "transformed_histogram = np.zeros(256, dtype=int)\n",
    "for i in range(256):\n",
    "    transformed_histogram[i] = np.argmin(np.abs(cdf[i] - uniform_cdf))"
   ]
  },
  {
   "cell_type": "code",
   "execution_count": null,
   "id": "567f3ee7",
   "metadata": {},
   "outputs": [],
   "source": [
    "# Apply contrast equalization\n",
    "equalized_image = np.zeros_like(veri)\n",
    "for row in range(veri.shape[0]):\n",
    "    for col in range(veri.shape[1]):\n",
    "        equalized_image[row, col] = transformed_histogram[veri[row, col]]"
   ]
  },
  {
   "cell_type": "code",
   "execution_count": null,
   "id": "f2cfdc39",
   "metadata": {},
   "outputs": [],
   "source": [
    "# Display the intermediate tables\n",
    "print(\"Orijinal Pixel Değerleri:\")\n",
    "print(veri)"
   ]
  },
  {
   "cell_type": "code",
   "execution_count": null,
   "id": "a1df6b1b",
   "metadata": {},
   "outputs": [],
   "source": [
    "print(\"\\nFrekans Değerleri:\")\n",
    "frequency_data = np.zeros_like(veri)\n",
    "for row in range(veri.shape[0]):\n",
    "    for col in range(veri.shape[1]):\n",
    "        frequency_data[row, col] = histogram[veri[row, col]]\n",
    "print(frequency_data)"
   ]
  },
  {
   "cell_type": "code",
   "execution_count": null,
   "id": "721c4943",
   "metadata": {},
   "outputs": [],
   "source": [
    "print(\"\\nEşitlenmiş Pixel Değerleri:\")\n",
    "print(equalized_image)"
   ]
  },
  {
   "cell_type": "code",
   "execution_count": null,
   "id": "852b71a6",
   "metadata": {},
   "outputs": [],
   "source": [
    "print(\"\\nEşitlenmiş Pixel Değerlerinin Frekans Değerleri:\")\n",
    "equalized_frequency_data = np.zeros_like(veri)\n",
    "for row in range(equalized_image.shape[0]):\n",
    "    for col in range(equalized_image.shape[1]):\n",
    "        equalized_frequency_data[row, col] = histogram[equalized_image[row, col]]\n",
    "print(equalized_frequency_data)"
   ]
  },
  {
   "cell_type": "code",
   "execution_count": null,
   "id": "4076c613",
   "metadata": {},
   "outputs": [],
   "source": [
    "print(\"\\nEşitlenmiş Pixel Değerlerinin CDF Değerleri:\")\n",
    "equalized_cdf = np.zeros_like(veri)\n",
    "for row in range(equalized_image.shape[0]):\n",
    "    for col in range(equalized_image.shape[1]):\n",
    "        equalized_cdf[row, col] = cdf[equalized_image[row, col]]\n",
    "print(equalized_cdf)"
   ]
  }
 ],
 "metadata": {
  "jupytext": {
   "cell_metadata_filter": "-all",
   "main_language": "python",
   "notebook_metadata_filter": "-all"
  }
 },
 "nbformat": 4,
 "nbformat_minor": 5
}
