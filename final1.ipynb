{
 "cells": [
  {
   "cell_type": "code",
   "execution_count": null,
   "id": "a0c1645c",
   "metadata": {
    "lines_to_next_cell": 1
   },
   "outputs": [],
   "source": [
    "import pandas as pd\n",
    "import numpy as np\n",
    "import matplotlib.pyplot as plt"
   ]
  },
  {
   "cell_type": "code",
   "execution_count": null,
   "id": "803d11f1",
   "metadata": {
    "lines_to_next_cell": 1
   },
   "outputs": [],
   "source": [
    "def kontrast_genişletme(görüntü):\n",
    "    # Orijinal görüntünün minimum ve maksimum piksel değerlerini bul\n",
    "    min_değer = np.min(görüntü)\n",
    "    max_değer = np.max(görüntü)\n",
    "    \n",
    "    # Yeni Min ve Max değerlerini belirle (genellikle 0-255 arası)\n",
    "    yeni_min = 0\n",
    "    yeni_max = 255\n",
    "    \n",
    "    # Yeni görüntü matrisi oluştur\n",
    "    genişletilmiş_görüntü = np.zeros_like(görüntü)\n",
    "    \n",
    "    # Kontrast genişletme işlemini uygula\n",
    "    for i in range(görüntü.shape[0]):\n",
    "        for j in range(görüntü.shape[1]):\n",
    "            genişletilmiş_görüntü[i, j] = (görüntü[i, j] - min_değer) * ((yeni_max - yeni_min) / (max_değer - min_değer)) + yeni_min\n",
    "            \n",
    "    return genişletilmiş_görüntü"
   ]
  },
  {
   "cell_type": "code",
   "execution_count": null,
   "id": "40c0079d",
   "metadata": {},
   "outputs": [],
   "source": [
    "# Excel dosyasının tam yolunu belirle\n",
    "excel_dosyası = \"/home/simge/Downloads/soru1_2_data.xlsx\"  # Linux'ta örnek bir yol"
   ]
  },
  {
   "cell_type": "code",
   "execution_count": null,
   "id": "b859480d",
   "metadata": {},
   "outputs": [],
   "source": [
    "# Excel dosyasını oku\n",
    "df = pd.read_excel(excel_dosyası)"
   ]
  },
  {
   "cell_type": "code",
   "execution_count": null,
   "id": "cb91ce3a",
   "metadata": {},
   "outputs": [],
   "source": [
    "# Veriyi NumPy dizisine dönüştür\n",
    "veri = df.values"
   ]
  },
  {
   "cell_type": "code",
   "execution_count": null,
   "id": "85ef4197",
   "metadata": {},
   "outputs": [],
   "source": [
    "# Kontrast genişletme işlemini uygula\n",
    "genişletilmiş_veri = kontrast_genişletme(veri)"
   ]
  },
  {
   "cell_type": "code",
   "execution_count": null,
   "id": "9a881330",
   "metadata": {},
   "outputs": [],
   "source": [
    "# Sonuçları çıktı olarak göster\n",
    "print(\"Orijinal Veri:\")\n",
    "for row in veri:\n",
    "    for val in row:\n",
    "        print(f\"{val:3}\", end=' ')\n",
    "    print()"
   ]
  },
  {
   "cell_type": "code",
   "execution_count": null,
   "id": "80f32c89",
   "metadata": {},
   "outputs": [],
   "source": [
    "print(\"\\nKontrast Genişletilmiş Veri:\")\n",
    "for row in genişletilmiş_veri:\n",
    "    for val in row:\n",
    "        print(f\"{val:3}\", end=' ')\n",
    "    print()"
   ]
  },
  {
   "cell_type": "code",
   "execution_count": null,
   "id": "23f13e60",
   "metadata": {},
   "outputs": [],
   "source": [
    "# Sonuçları görselleştir\n",
    "plt.figure(figsize=(12, 6))"
   ]
  },
  {
   "cell_type": "code",
   "execution_count": null,
   "id": "f8f6cf8b",
   "metadata": {},
   "outputs": [],
   "source": [
    "plt.subplot(1, 2, 1)\n",
    "plt.title(\"Orijinal Veri\")\n",
    "plt.imshow(veri, cmap='viridis')  # Renkli bir harita kullan"
   ]
  },
  {
   "cell_type": "code",
   "execution_count": null,
   "id": "d8a2ceb4",
   "metadata": {},
   "outputs": [],
   "source": [
    "plt.subplot(1, 2, 2)\n",
    "plt.title(\"Kontrast Genişletilmiş Veri\")\n",
    "plt.imshow(genişletilmiş_veri, cmap='viridis')  # Renkli bir harita kullan"
   ]
  },
  {
   "cell_type": "code",
   "execution_count": null,
   "id": "771f1645",
   "metadata": {},
   "outputs": [],
   "source": [
    "plt.show()"
   ]
  }
 ],
 "metadata": {
  "jupytext": {
   "cell_metadata_filter": "-all",
   "main_language": "python",
   "notebook_metadata_filter": "-all"
  }
 },
 "nbformat": 4,
 "nbformat_minor": 5
}
