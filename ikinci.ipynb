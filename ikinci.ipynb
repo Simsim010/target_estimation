{
 "cells": [
  {
   "cell_type": "code",
   "execution_count": null,
   "id": "75d60767",
   "metadata": {},
   "outputs": [],
   "source": [
    "data = [15, 15, 16, 19, 19, 20, 20, 21, 22, 28, 35, 40, 41, 42, 43, 44, 60, 61, 65]"
   ]
  },
  {
   "cell_type": "code",
   "execution_count": null,
   "id": "bfb31535",
   "metadata": {
    "lines_to_next_cell": 1
   },
   "outputs": [],
   "source": [
    "c1 = 16\n",
    "c2 = 22"
   ]
  },
  {
   "cell_type": "code",
   "execution_count": null,
   "id": "53ffbd72",
   "metadata": {
    "lines_to_next_cell": 1
   },
   "outputs": [],
   "source": [
    "def manhattan_distance(x, y):\n",
    "    return abs(x - y)"
   ]
  },
  {
   "cell_type": "code",
   "execution_count": null,
   "id": "d84195e6",
   "metadata": {},
   "outputs": [],
   "source": [
    "for i in range(4):\n",
    "    cluster1 = [age for age in data if manhattan_distance(age, c1) < manhattan_distance(age, c2)]\n",
    "    cluster2 = [age for age in data if manhattan_distance(age, c1) >= manhattan_distance(age, c2)]\n",
    "\n",
    "    new_c1 = sum(cluster1) / len(cluster1)\n",
    "    new_c2 = sum(cluster2) / len(cluster2)\n",
    "\n",
    "    print(f\"Iteration {i+1}:\")\n",
    "    print(\"  x    c1      c2    Distance 1  Distance 2   New Center\")\n",
    "    for age in data:\n",
    "        distance1 = manhattan_distance(age, c1)\n",
    "        distance2 = manhattan_distance(age, c2)\n",
    "        nearest_cluster = 'Cluster 1' if distance1 < distance2 else 'Cluster 2'\n",
    "        new_center = new_c1 if nearest_cluster == 'Cluster 1' else new_c2\n",
    "        print(f\"{age:^5}  {c1:^8.2f}  {c2:^8.2f}  {distance1:^10.2f}  {distance2:^10.2f}  {new_center:^10.2f}\")\n",
    "\n",
    "    c1, c2 = new_c1, new_c2"
   ]
  }
 ],
 "metadata": {
  "jupytext": {
   "cell_metadata_filter": "-all",
   "main_language": "python",
   "notebook_metadata_filter": "-all"
  }
 },
 "nbformat": 4,
 "nbformat_minor": 5
}
